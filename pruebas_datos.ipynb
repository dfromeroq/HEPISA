{
 "cells": [
  {
   "cell_type": "code",
   "execution_count": 1,
   "metadata": {},
   "outputs": [],
   "source": [
    "from pydataxm import *\n",
    "import datetime as dt\n",
    "\n",
    "consult = pydataxm.ReadDB()\n",
    "df1 = consult.request_data(\"DispoCome\", \"Recurso\", dt.date(2021, 5, 5), dt.date(2021, 5, 5))\n",
    "# df1 = df1.set_index(['Values_code', 'Date'])\n",
    "# df1 = df1.drop(['Id'], axis=1)\n",
    "# df1 = df1.astype(float)\n",
    "# df1 = df1.div(1000)\n",
    "# df2 = Procces_hourly_data(df1,date1,date2,'Rec')\n"
   ]
  }
 ],
 "metadata": {
  "kernelspec": {
   "display_name": "Python 3",
   "language": "python",
   "name": "python3"
  },
  "language_info": {
   "codemirror_mode": {
    "name": "ipython",
    "version": 3
   },
   "file_extension": ".py",
   "mimetype": "text/x-python",
   "name": "python",
   "nbconvert_exporter": "python",
   "pygments_lexer": "ipython3",
   "version": "3.8.3"
  }
 },
 "nbformat": 4,
 "nbformat_minor": 2
}
